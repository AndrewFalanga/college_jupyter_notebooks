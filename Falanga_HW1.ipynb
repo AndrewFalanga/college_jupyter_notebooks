{
 "cells": [
  {
   "cell_type": "code",
   "execution_count": 1,
   "metadata": {},
   "outputs": [],
   "source": [
    "import numpy as np\n",
    "import matplotlib.pyplot as plt\n",
    "import math\n",
    "\n",
    "def bisectionRootFind(a, b, g, maxIterations = 10, guess = None, samples = None, debug = False):\n",
    "    # The first check, if g(a) * g(b) > 0, there is no root\n",
    "    atA = g(a) if samples is None else g(samples, a)\n",
    "    atB = g(b) if samples is None else g(samples, b)\n",
    "    if debug == True: print(\"atA:{}; atB:{}\".format(atA, atB))\n",
    "    if atA * atB > 0.0:\n",
    "        raise ValueError(\"No 0 in [{}, {}]\".format(a, b))\n",
    "        \n",
    "    # Generate a guess by means of\n",
    "    #  x(t) = (1/2)*(g(a) * g(b))\n",
    "    nextX = lambda: (1/2)*(a + b)\n",
    "\n",
    "    found = False\n",
    "    iteration = 0\n",
    "    x_t = nextX() if guess is None else guess\n",
    "    while iteration < maxIterations:\n",
    "    \n",
    "        # Ok, the checks are now done, perform the algorithm\n",
    "        candidateVal = g(x_t) if samples is None else g(samples, x_t)\n",
    "\n",
    "        # using default values for isclose() as this defaults to a relative\n",
    "        # tolerance of 1*10^-9 and an absolute tolerance of 0.0\n",
    "        if np.isclose(candidateVal, 0.0):\n",
    "            found = True\n",
    "            break\n",
    "        \n",
    "        # We haven't found a root, so shrink the interval\n",
    "        atA = g(a) if samples is None else g(samples, a)\n",
    "        if atA * candidateVal <= 0:\n",
    "            b = x_t\n",
    "        else:\n",
    "            a = x_t\n",
    "\n",
    "        x_t = nextX()\n",
    "        iteration += 1\n",
    "\n",
    "    if found:\n",
    "        # This little bit of apparent craziness makes quirks with floating point\n",
    "        # representation look correct when we look at it.\n",
    "        root = abs(x_t) if x_t == -0.0 else x_t\n",
    "        return (root, iteration)\n",
    "    else:\n",
    "        raise RuntimeError(\"Unable to find a root for g in [{}, {}]\".format(a, b))"
   ]
  },
  {
   "cell_type": "code",
   "execution_count": 2,
   "metadata": {},
   "outputs": [
    {
     "name": "stdout",
     "output_type": "stream",
     "text": [
      "x = 3.59112 maximizes g(x) = log(x)/(1+x) on [1, 5]\n",
      "Iterations required: 19\n"
     ]
    }
   ],
   "source": [
    "# First requirement, find the root of g via g'(x) = 0.  g'(x) = (1 + (1/x) - log(x))/(1 + x)^2\n",
    "gPrime = lambda x: (1 + (1/x) - np.log(x))/(1 + x)**2\n",
    "retTuple = bisectionRootFind(1, 5, gPrime, maxIterations = 25)\n",
    "print(\"x = {:.5f} maximizes g(x) = log(x)/(1+x) on [1, 5]\".format(retTuple[0]))\n",
    "print(\"Iterations required: {}\".format(retTuple[1]))"
   ]
  },
  {
   "cell_type": "code",
   "execution_count": 3,
   "metadata": {},
   "outputs": [
    {
     "data": {
      "image/png": "[encoded data removed]",
      "text/plain": [
       "<Figure size 432x288 with 1 Axes>"
      ]
     },
     "metadata": {
      "needs_background": "light"
     },
     "output_type": "display_data"
    }
   ],
   "source": [
    "# Second requirement, plot g(x) = log(x)/(1 + x)\n",
    "x = np.linspace(1, 5, 500)\n",
    "g = lambda x: np.log(x)/(1 + x)\n",
    "y = g(x)\n",
    "tangent = [g(retTuple[0]) for i in range(len(x))]\n",
    "plt.plot(x, y, retTuple[0], g(retTuple[0]), 'ro', x, tangent, 'k--')\n",
    "plt.ylabel(\"g(x)\")\n",
    "plt.show()"
   ]
  },
  {
   "cell_type": "code",
   "execution_count": 4,
   "metadata": {},
   "outputs": [
    {
     "data": {
      "image/png": "[encoded data removed]",
      "text/plain": [
       "<Figure size 432x288 with 1 Axes>"
      ]
     },
     "metadata": {
      "needs_background": "light"
     },
     "output_type": "display_data"
    }
   ],
   "source": [
    "# Third requirement, plot g'(x) as in textbook\n",
    "devY = gPrime(x)\n",
    "zeros = [0 for x in range(len(devY))]\n",
    "plt.plot(x, devY, retTuple[0], gPrime(retTuple[0]), 'ro', x, zeros, 'k--')\n",
    "plt.ylabel(\"g'(x)\")\n",
    "plt.show()"
   ]
  }
 ],
 "metadata": {
  "kernelspec": {
   "display_name": "Python 3",
   "language": "python",
   "name": "python3"
  },
  "language_info": {
   "codemirror_mode": {
    "name": "ipython",
    "version": 3
   },
   "file_extension": ".py",
   "mimetype": "text/x-python",
   "name": "python",
   "nbconvert_exporter": "python",
   "pygments_lexer": "ipython3",
   "version": "3.8.1"
  }
 },
 "nbformat": 4,
 "nbformat_minor": 4
}
