{
 "cells": [
  {
   "cell_type": "markdown",
   "metadata": {},
   "source": [
    "# Homework 4: Problem 1\n",
    "**Derive MLE Update for Poisson Distribution**  \n",
    "L(f(X; lambda)) = (lambda^(sum(x_i)) \\* exp(-(lambda)\\*sum(x_i))/x_n!  \n",
    "l(f(X; lambda)) = sum(X_i \\* log(a \\* b_i) - log(X_i) - (a \\* b_i))  \n",
    "l'(f(X; lambda)) = 1/a \\* sum(X_i - b_i)  \n",
    "l'' -- I didn't get to this one  \n",
    "X^(t+1) = X^(t) - l''(X^(t))^-1 l'(X^(t)) = X^(t) - l''(X^(t))^-1 \\* 1/a \\* sum(X_i - b_i)"
   ]
  },
  {
   "cell_type": "code",
   "execution_count": null,
   "metadata": {},
   "outputs": [],
   "source": []
  }
 ],
 "metadata": {
  "kernelspec": {
   "display_name": "Python 3",
   "language": "python",
   "name": "python3"
  },
  "language_info": {
   "codemirror_mode": {
    "name": "ipython",
    "version": 3
   },
   "file_extension": ".py",
   "mimetype": "text/x-python",
   "name": "python",
   "nbconvert_exporter": "python",
   "pygments_lexer": "ipython3",
   "version": "3.8.1"
  }
 },
 "nbformat": 4,
 "nbformat_minor": 4
}
