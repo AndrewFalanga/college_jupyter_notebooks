{
 "cells": [
  {
   "cell_type": "markdown",
   "metadata": {},
   "source": [
    "# Functions used in this work\n"
   ]
  },
  {
   "cell_type": "code",
   "execution_count": 5,
   "metadata": {},
   "outputs": [],
   "source": [
    "def newtonsMethod(interval, guess, f, h, maxIterations = 10, samples = None, debug = False):\n",
    "    '''\n",
    "    newtonsMethod - finds the root of f through estimation via evaluation of\n",
    "    the tangent lines of that function.\n",
    "    f - The function to evaluate, g'(x)  (must be callable)\n",
    "    h - The callable version of g'/g''  (must be callable)\n",
    "    interval - The interval upon which f() is continuously differentiable.\n",
    "    guess - An initial starting point\n",
    "    maxIterations - The number of times to iterate, or loop, looking for the root\n",
    "    '''\n",
    "    if not callable(f) or not callable(h):\n",
    "        raise ValueError(\"f and/or h must be callable objects\")\n",
    "    if not interval[0] <= guess <= interval[1]:\n",
    "       \n",
    "        raise ValueError(\"Initial guess lies outside of the provided interval\")\n",
    "        \n",
    "    iteration = 0\n",
    "\n",
    "    # Contains a list of tuples which may be treated as x,y pairs\n",
    "    pointsList = []\n",
    "    x = guess\n",
    "    while iteration < maxIterations:\n",
    "        y = f(x) if samples is None else f(samples, x)\n",
    "        if debug == True: print(\"DEBUG: x={}, y={}\".format(x, y))\n",
    "        #if np.isclose(y, 0.0, atol = 1e-2):\n",
    "        if np.isclose(y, 0.0):\n",
    "            break\n",
    "        elif iteration >= maxIterations:\n",
    "            raise ArithmeticError(\"No root found for f within max iterations\")\n",
    "\n",
    "        pointsList.append((x, y))\n",
    "        x = x + h(x) if samples is None else h(samples, x)\n",
    "        if x < interval[0] or x > interval[1]:\n",
    "            raise ValueError(\"There is no solution in this interval\")\n",
    "        iteration += 1\n",
    "\n",
    "    # If we got here, a root was found\n",
    "    root = x\n",
    "    return [(root, iteration), pointsList]\n",
    "\n",
    "def bisectionMethod(a, b, g, maxIterations = 10, guess = None, samples = None, debug = False):\n",
    "    # The first check, if g(a) * g(b) > 0, there is no root\n",
    "    atA = g(a) if samples is None else g(samples, a)\n",
    "    atB = g(b) if samples is None else g(samples, b)\n",
    "    if debug == True: print(\"atA:{}; atB:{}\".format(atA, atB))\n",
    "    if atA * atB > 0.0:\n",
    "        raise ValueError(\"No 0 in [{}, {}]\".format(a, b))\n",
    "        \n",
    "    # Generate a guess by means of\n",
    "    #  x(t) = (1/2)*(g(a) * g(b))\n",
    "    nextX = lambda: (1/2)*(a + b)\n",
    "\n",
    "    found = False\n",
    "    iteration = 0\n",
    "    x_t = nextX() if guess is None else guess\n",
    "    while iteration < maxIterations:\n",
    "    \n",
    "        # Ok, the checks are now done, perform the algorithm\n",
    "        candidateVal = g(x_t) if samples is None else g(samples, x_t)\n",
    "\n",
    "        # using default values for isclose() as this defaults to a relative\n",
    "        # tolerance of 1*10^-9 and an absolute tolerance of 0.0\n",
    "        if np.isclose(candidateVal, 0.0):\n",
    "            found = True\n",
    "            break\n",
    "        \n",
    "        # We haven't found a root, so shrink the interval\n",
    "        atA = g(a) if samples is None else g(samples, a)\n",
    "        if atA * candidateVal <= 0:\n",
    "            b = x_t\n",
    "        else:\n",
    "            a = x_t\n",
    "\n",
    "        x_t = nextX()\n",
    "        iteration += 1\n",
    "\n",
    "    if found:\n",
    "        # This little bit of apparent craziness makes quirks with floating point\n",
    "        # representation look correct when we look at it.\n",
    "        root = abs(x_t) if x_t == -0.0 else x_t\n",
    "        return (root, iteration)\n",
    "    else:\n",
    "        raise RuntimeError(\"Unable to find a root for g in [{}, {}]\".format(a, b))\n",
    "        \n",
    "def fixedPointMethod(a, b, gp, L, samples = None, guess = None, debug = False):\n",
    "    G = lambda samples, x: gp(samples, x) + x\n",
    "    \n",
    "    x = (1/2)*(a + b) if guess is None else guess\n",
    "    iteration = 0\n",
    "    contracting = True\n",
    "    while contracting:\n",
    "        # Generate a candidate root value\n",
    "        candidate = G(samples, x)\n",
    "        \n",
    "        # First, check that we've fully converged\n",
    "        if np.isclose(candidate, x):\n",
    "            break\n",
    "            \n",
    "        # Check that the function is contractive\n",
    "        if debug == True:\n",
    "            print(\"a:{}; b:{}; candidate:{}; x:{}\".format(a, b, candidate, x))\n",
    "        if not a <= candidate <= b or not a <= x <= b:\n",
    "            contracting = False\n",
    "            raise RuntimeError(\"G(x) is no longer contractive on interval\")\n",
    "            \n",
    "        # condition 2 for contractiveness\n",
    "        temp = G(samples, candidate)\n",
    "        np.abs(candidate - temp) <= L*np.abs(x - candidate)\n",
    "        \n",
    "        # keep trying\n",
    "        x = candidate\n",
    "        iteration += 1\n",
    "        \n",
    "    return (candidate, iteration)\n",
    "\n",
    "def secantUpdate(x0, x1, f, samples):\n",
    "    if samples is None:\n",
    "        t = x1 - f(x1)*(x1 - x0)/(f(x1) - f(x0))\n",
    "    else:\n",
    "        t = x1 - f(samples, x1)*(x1 - x0)/(f(samples, x1) - f(samples, x0))\n",
    "\n",
    "    return x1, t\n",
    "\n",
    "def secantMethod(x0, x1, f, maxIterations = 10, samples = None, debug = False):\n",
    "    update = lambda x0, x1: x1 - f(x1)*(x1 - x0)/(f(x1) - f(x0))\n",
    "\n",
    "    iteration = 0\n",
    "    while iteration < maxIterations:\n",
    "        test = f(x1) if samples is None else f(samples, x1)\n",
    "\n",
    "        if np.isclose(test, 0):\n",
    "            break\n",
    "\n",
    "        x0, x1 = secantUpdate(x0, x1, f, samples)\n",
    "\n",
    "        if debug:\n",
    "            print(\"x0 {}; x1 {}; test {}\".format(x0, x1, test))\n",
    "\n",
    "    else:\n",
    "        raise RuntimeError(\"Unable to converge to solution\")\n",
    "\n",
    "    return (x1, iteration + 1)"
   ]
  },
  {
   "cell_type": "markdown",
   "metadata": {},
   "source": [
    "# Homework Problem 1: Iteratively Reweighted Least Squares"
   ]
  },
  {
   "cell_type": "code",
   "execution_count": 6,
   "metadata": {},
   "outputs": [],
   "source": [
    "# First, read the dataset\n",
    "import pandas as pd\n",
    "import numpy as np\n",
    "import matplotlib.pyplot as plt\n",
    "from ipynb.fs.defs.Falanga_HW2 import newtonsMethod\n",
    "df = pd.read_table('datasets/facerecognition.dat')\n",
    "\n",
    "# Now, some nicer lambdas for working with this illdefined dataset\n",
    "weirdKey = 'match eyediff nosecheekdiff variabilityratio'\n",
    "\n",
    "getMatch = lambda i: int(df[weirdKey][i].split()[0])\n",
    "getEyeDiff = lambda i: np.float(df[weirdKey][i].split()[1])\n",
    "getNoseCheekDiff = lambda i: np.float(df[weirdKey][i].split()[2])\n",
    "getVariabilityRatio = lambda i: np.float(df[weirdKey][i].split()[3])\n"
   ]
  },
  {
   "cell_type": "markdown",
   "metadata": {},
   "source": [
    "# Homework Problem 2: Problem 2.1 Pg. 54\n",
    "**Cauchy Distribution**: C(\\theta, 1) with X_i = 1.77, -0.23, 2.76, 3.80, 3.47, 56.75, -1.34, 4.24, -2.44, 3.29, 3.71, -2.40, 4.53, -0.07, -1.05, -13.87, -2.53, -1.75, 0.27, 43.21"
   ]
  },
  {
   "cell_type": "code",
   "execution_count": 7,
   "metadata": {},
   "outputs": [
    {
     "data": {
      "image/png": "[encoded data removed]",
      "text/plain": [
       "<Figure size 432x288 with 1 Axes>"
      ]
     },
     "metadata": {
      "needs_background": "light"
     },
     "output_type": "display_data"
    },
    {
     "name": "stdout",
     "output_type": "stream",
     "text": [
      "Now use Newton-Raphson method to find the maximum\n",
      "Starting point -11; max -0.10132118364233782; iterations 50\n",
      "Starting point -11; max -0.10132118364233782; iterations 50\n",
      "No maximum found in [0, 1]\n",
      "No maximum found in [1.5, 3]\n",
      "No maximum found in [4, 5]\n",
      "No maximum found in [4.7, 6]\n",
      "No maximum found in [7, 9]\n",
      "No maximum found in [8, 10]\n",
      "No maximum found in [38, 40]\n"
     ]
    }
   ],
   "source": [
    "logLikely = lambda x, th: np.log((np.pi * (1 + (x - th)**2))**-1).sum()\n",
    "obs = np.array([1.77, -0.23, 2.76, 3.80, 3.47, 56.75, -1.34, 4.24, -2.44, 3.29, 3.71, -2.40, 4.53, -0.07, -1.05, -13.87, -2.53, -1.75, 0.27, 43.21])\n",
    "\n",
    "thetas = np.linspace(-11, 38, 200)\n",
    "y = np.array([logLikely(obs, t) for t in thetas])\n",
    "plt.plot(thetas, y)\n",
    "plt.title(\"Log likelihood function\")\n",
    "plt.ylabel(\"y = -n*log(\\pi) - \\sum_{i=1}^{n}log(1+(x-\\\\theta)^2)\")\n",
    "plt.xlabel(\"Domain: [-11, 38]\")\n",
    "plt.show()\n",
    "\n",
    "# now, find estimates for theta using the Fixed-Point Iterative Method\n",
    "gp = lambda x, th: 2 * np.sum((x - th)/(np.pi*(1 + (x - th)**2))**2)\n",
    "gpp = lambda x, th: np.sum((2*th - 2*x)/(1 + (x - th)**2)**2)\n",
    "step = lambda x, th: gp(x, th)/gpp(x, th)\n",
    "\n",
    "print(\"Now use Newton-Raphson method to find the maximum\")\n",
    "allIntervals = [[-11, 0.5], [-1, 0.5], [0, 1], [1.5, 3], [4, 5], [4.7, 6], [7, 9], [8, 10], [38, 40]]\n",
    "for interval in allIntervals:\n",
    "    try:\n",
    "        vals = newtonsMethod(interval, interval[0], gp, step, maxIterations = 50, samples = obs)\n",
    "        print(\"Starting point {}; max {}; iterations {}\".format(-11, vals[0][0], vals[0][1]))\n",
    "    except:\n",
    "        print(\"No maximum found in [{}, {}]\".format(interval[0], interval[1]))\n"
   ]
  },
  {
   "cell_type": "markdown",
   "metadata": {},
   "source": [
    "# Problem 2.1(b): Find MLE using bisection method"
   ]
  },
  {
   "cell_type": "code",
   "execution_count": 8,
   "metadata": {},
   "outputs": [
    {
     "name": "stdout",
     "output_type": "stream",
     "text": [
      "Maximum -1.5533092021942139; Iterations 22; Initial Guess -1\n",
      "Maximum 1.2570688724517822; Iterations 23; Initial Guess 1\n"
     ]
    }
   ],
   "source": [
    "for intv in [[-2, 0, -1], [0, 3, 1]]:\n",
    "    vals = bisectionMethod(intv[0], intv[1], gp, maxIterations = 50, guess = intv[2], samples = obs)\n",
    "    print(\"Maximum {}; Iterations {}; Initial Guess {}\".format(vals[0], vals[1], intv[2]))"
   ]
  },
  {
   "cell_type": "markdown",
   "metadata": {},
   "source": [
    "# Problem 2.1(c): Find MLE using Fixed-Point Iteration"
   ]
  },
  {
   "cell_type": "code",
   "execution_count": 9,
   "metadata": {},
   "outputs": [
    {
     "name": "stdout",
     "output_type": "stream",
     "text": [
      "Converged to -1.5531506088155014 after 64 iterations: L 1\n",
      "Converged to -1.5531506088155014 after 64 iterations: L 0.64\n",
      "Converged to -1.5531506088155014 after 64 iterations: L 0.25\n"
     ]
    }
   ],
   "source": [
    "vals = fixedPointMethod(-3, 0, gp, 1, samples = obs)\n",
    "print(\"Converged to {} after {} iterations: L {}\".format(vals[0], vals[1], 1))\n",
    "vals = fixedPointMethod(-3, 0, gp, 0.64, samples = obs)\n",
    "print(\"Converged to {} after {} iterations: L {}\".format(vals[0], vals[1], 0.64))\n",
    "vals = fixedPointMethod(-3, 0, gp, 0.25, samples = obs)\n",
    "print(\"Converged to {} after {} iterations: L {}\".format(vals[0], vals[1], 0.25))"
   ]
  },
  {
   "cell_type": "markdown",
   "metadata": {},
   "source": [
    "# Problem 2.1(d): Find MLE using Secant Method"
   ]
  },
  {
   "cell_type": "code",
   "execution_count": 10,
   "metadata": {},
   "outputs": [
    {
     "name": "stdout",
     "output_type": "stream",
     "text": [
      "x0 -1; x1 -1.5510369668105262; test -0.04440288251240235\n",
      "x0 -1.5510369668105262; x1 -1.553446710253367; test -0.00019333307614838758\n",
      "x0 -1.553446710253367; x1 -1.5533094460158816; test 1.1677870237777285e-05\n",
      "x0 -1.5533094460158816; x1 -1.5533091724900308; test 2.3224162697631822e-08\n",
      "Theta -1.5533091724900308 in 1 iterations\n",
      "x0 3; x1 13.809263334552151; test 0.1929201298543256\n",
      "x0 13.809263334552151; x1 13.697351148454327; test -0.002018267249027645\n",
      "x0 13.697351148454327; x1 17.453306326849106; test -0.0020802502444110097\n",
      "x0 17.453306326849106; x1 20.138399421037573; test -0.0008671982151147096\n",
      "x0 20.138399421037573; x1 24.21136082765596; test -0.0005226452171447957\n",
      "x0 24.21136082765596; x1 28.275009267885945; test -0.00026102350504943536\n",
      "x0 28.275009267885945; x1 31.27537676991111; test -0.00011086702637947404\n",
      "x0 31.27537676991111; x1 31.299590107232294; test -8.875480108189952e-07\n",
      "x0 31.299590107232294; x1 31.2955491982033; test 1.7779221810250174e-07\n",
      "Theta 31.2955491982033 in 1 iterations\n"
     ]
    }
   ],
   "source": [
    "vals = secantMethod(-2, -1, gp, maxIterations = 50, samples = obs, debug = True)\n",
    "print(\"Theta {} in {} iterations\".format(vals[0], vals[1]))\n",
    "vals = secantMethod(-3, 3, gp, maxIterations = 50, samples = obs, debug = True)\n",
    "print(\"Theta {} in {} iterations\".format(vals[0], vals[1]))"
   ]
  },
  {
   "cell_type": "code",
   "execution_count": null,
   "metadata": {},
   "outputs": [],
   "source": []
  }
 ],
 "metadata": {
  "kernelspec": {
   "display_name": "Python 3",
   "language": "python",
   "name": "python3"
  },
  "language_info": {
   "codemirror_mode": {
    "name": "ipython",
    "version": 3
   },
   "file_extension": ".py",
   "mimetype": "text/x-python",
   "name": "python",
   "nbconvert_exporter": "python",
   "pygments_lexer": "ipython3",
   "version": "3.8.1"
  }
 },
 "nbformat": 4,
 "nbformat_minor": 4
}
